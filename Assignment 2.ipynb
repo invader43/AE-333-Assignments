{
  "cells": [
    {
      "cell_type": "markdown",
      "metadata": {
        "id": "UX6x_hxO-u6H"
      },
      "source": [
        "#####Standard Imports"
      ]
    },
    {
      "cell_type": "code",
      "execution_count": null,
      "metadata": {
        "id": "MXYpu6TZyjhs"
      },
      "outputs": [],
      "source": [
        "import numpy as np\n",
        "import scipy.integrate as integrate\n",
        "import time, copy\n",
        "from matplotlib import pyplot as plt\n",
        "from tqdm.notebook import tqdm "
      ]
    },
    {
      "cell_type": "markdown",
      "metadata": {
        "id": "wWx89ydH-0m8"
      },
      "source": [
        "#####AirfoilSpec is the parent class , includes methods for derivatives ."
      ]
    },
    {
      "cell_type": "code",
      "execution_count": null,
      "metadata": {
        "id": "Q5hBN53X-yC7"
      },
      "outputs": [],
      "source": [
        "class AirfoilSpec(object):\n",
        "    \"\"\" Template class for specifying airfoil\n",
        "\n",
        "        There are methods that give the z-coordinates of the camber & thickness\n",
        "        distributions, upper & lower surface locations, and derivatives of all\n",
        "        of these, all taking x-coordinates along the chord as input. All these\n",
        "        methods work equally well with scalar or 1D numpy array inputs, and\n",
        "        their outputs are like their inputs. Also, all x- and z-coordinates are\n",
        "        normalized by the chord length (LE = 0; TE = 1).\n",
        "    \"\"\"\n",
        "\n",
        "    def __init__(self,**kwarg):\n",
        "        if 'name' in kwarg:\n",
        "            self.name = kwarg['name']\n",
        "\n",
        "    # x-derivative of any relevant x-dependent function at a given x-coordinate\n",
        "    # along chord\n",
        "    #\n",
        "    # INPUTS:\n",
        "    # x_by_c : x-coordinate along chord\n",
        "    # z      : Handle to function giving variation with x_by_c\n",
        "    # deltaX : Size of x-step for finite difference approximations\n",
        "    #\n",
        "    # OUTPUTS:\n",
        "    # dz : x-derivative of given z-function\n",
        "    def dz_dx(self,x_by_c,z,deltaX=0.0001):\n",
        "        # We start by converting the given x_by_c to a 1D (singleton) numpy\n",
        "        # array if it is a scalar, since all the subsequent steps are vectorized\n",
        "        singleton = False\n",
        "        if not isinstance(x_by_c,np.ndarray):\n",
        "            singleton = True\n",
        "            x_copy = np.array([x_by_c]) #Create a new singleton array\n",
        "        else:\n",
        "            x_copy = x_by_c\n",
        "        # Find indices of x_copy that are too far to the left (too close to 0) \n",
        "        # to pursue 2nd-order accurate central differences\n",
        "        iL = x_copy < deltaX\n",
        "        # Find indices of x_copy that are well inside the range [0,1] so as to\n",
        "        # allow pursuit of 2nd-order accurate central differences\n",
        "        iM = np.logical_and(x_copy >= deltaX,x_copy <= 1-deltaX)\n",
        "        # Find indices of x_copy that are too far to the right (too close to 1)\n",
        "        # to pursue 2nd-order accurate central differences\n",
        "        iR = x_copy > 1-deltaX\n",
        "        # Pre-allocate output array like input array\n",
        "        dz = np.zeros_like(x_copy)\n",
        "        # Evaluate 1st-order accurate forward differences at leftward points\n",
        "        dz[iL] = (z(x_copy[iL]+deltaX) -z(x_copy[iL]))/deltaX\n",
        "        # Evaluate 2nd-order accurate central difference at inner points\n",
        "        dz[iM] = (z(x_copy[iM]+deltaX) - z(x_copy[iM]-deltaX))/(2*deltaX)\n",
        "        # Evaluate 1st-order accurate backward differences at rightward points\n",
        "        dz[iR] = (z(x_copy[iR]) - z(x_copy[iR]-deltaX))/deltaX        \n",
        "        if singleton:\n",
        "            dz = dz[0] #Output must be a scalar since input was scalar\n",
        "        return dz\n",
        "    \n",
        "    # Camber distribution of airfoil at a given x-coordinate along chord; this\n",
        "    # must be coded in the child class\n",
        "    # def zc_by_c(self,x_by_c):\n",
        "    #     pass\n",
        "\n",
        "    # x-derivative of camber distribution at a given x-coordinate along chord\n",
        "    def dzc_dx(self,x_by_c,deltaX=0.0001):\n",
        "        return self.dz_dx(x_by_c,self.zc_by_c,deltaX=deltaX)\n",
        "    \n",
        "    # Semi-thickness distribution at a given x-coordinate along chord; this\n",
        "    # must be coded in the child class\n",
        "    # def zt_by_c(self,x_by_c):\n",
        "    #     pass\n",
        "    \n",
        "    # x-derivative of semi-thickness distribution at a given x-coordinate along\n",
        "    # chord\n",
        "    def dzt_dx(self,x_by_c,deltaX=0.0001):\n",
        "        return self.dz_dx(x_by_c,self.zt_by_c,deltaX=deltaX)\n",
        "\n",
        "    # z-coordinate of upper surface at a given x-coordinate along chord\n",
        "    def zu_by_c(self,x_by_c):\n",
        "        return self.zc_by_c(x_by_c) + self.zt_by_c(x_by_c)\n",
        "\n",
        "    # z-coordinate of lower surface at a given x-coordinate along chord\n",
        "    def zl_by_c(self,x_by_c):\n",
        "        return self.zc_by_c(x_by_c) - self.zt_by_c(x_by_c)\n",
        "\n",
        "    # Plot the airfoil geometry, in the supplied axes if given\n",
        "    def plot(self,axes=None):\n",
        "        # Create a single plot for both upper and lower surfaces, starting from\n",
        "        # the LE, going to the TE along the upper surface, and then returning\n",
        "        # to the LE along the lower surface\n",
        "        x_by_c = np.linspace(0,1,100)    #x/c for upper surface\n",
        "        # x/c for lower surface; don't duplicate TE; duplicate LE to close loop\n",
        "        x_by_c_flip = x_by_c[-2::-1]\n",
        "        # Final array of x-coordinates to plot\n",
        "        X = np.concatenate((x_by_c,x_by_c_flip))\n",
        "        # Final array of z-coordinates to plot\n",
        "        Z = np.concatenate((self.zu_by_c(x_by_c),self.zl_by_c(x_by_c_flip)))\n",
        "        if axes is None:\n",
        "            plt.figure()\n",
        "            axes = plt.gca()\n",
        "        axes.plot(X,Z)\n",
        "        axes.set_xlabel('x/c');  axes.set_ylabel('z/c')\n",
        "        axes.set_aspect('equal', 'box')\n",
        "        if hasattr(self,'name'):\n",
        "            axes.set_title(self.name)\n",
        "        else:\n",
        "            axes.set_title('Airfoil geometry')"
      ]
    },
    {
      "cell_type": "markdown",
      "metadata": {
        "id": "lHFRxLFz-8B7"
      },
      "source": [
        "#####NACA4digit contains methods for z_t , z_c and inherits from AirfoilSpec"
      ]
    },
    {
      "cell_type": "code",
      "execution_count": null,
      "metadata": {
        "id": "GIRXj_hV-8qr"
      },
      "outputs": [],
      "source": [
        "class NACA4digit(AirfoilSpec):\n",
        "    \"\"\" Implementation of class derived from AirfoilSpec for defining the\n",
        "        geometry of a NACA 4-digit airfoil\n",
        "\n",
        "        airfoil = NACA4digit(digits='2412'), or\n",
        "        airfoil = NACA4digit(mCmbr=0.02,pCmbr=0.4,mThk=0.12)\n",
        "    \"\"\"\n",
        "    def __init__(self,**kwarg):\n",
        "        if 'digits' in kwarg:\n",
        "            self.digits = kwarg['digits']\n",
        "            del kwarg['digits']\n",
        "            self.mThk = float(self.digits[-2:])/100\n",
        "            self.mCmbr = float(self.digits[0])/100\n",
        "            self.pCmbr = float(self.digits[1])/10\n",
        "        else:\n",
        "            self.mThk = kwarg['mThk'];   del kwarg['mThk']\n",
        "            self.mCmbr = kwarg['mCmbr']; del kwarg['mCmbr']\n",
        "            self.pCmbr = kwarg['pCmbr']; del kwarg['pCmbr']\n",
        "            self.digits='%02d%d%d'%(self.mCmbr*100,self.pCmbr*10,self.mThk*100)\n",
        "        self.name = 'NACA '+self.digits\n",
        "        super().__init__(**kwarg)\n",
        "\n",
        "    # Camber function of NACA 4-digit airfoil series with maximum fractional\n",
        "    # camber mCmbr and its fractional position pCmbr available as class\n",
        "    # attributes already\n",
        "    def zc_by_c(self,x_by_c):\n",
        "        singleton = False\n",
        "        if not isinstance(x_by_c,np.ndarray):\n",
        "            singleton = True\n",
        "            x_copy = np.array([x_by_c]) #Create a new singleton array\n",
        "        else:\n",
        "            x_copy = x_by_c\n",
        "        cmbr = np.zeros_like(x_copy)\n",
        "        iL = x_copy <= self.pCmbr\n",
        "        iT = x_copy > self.pCmbr\n",
        "        cmbr[iL] = self.mCmbr/self.pCmbr**2*(2*self.pCmbr*x_copy[iL] \\\n",
        "            -np.square(x_copy[iL]))\n",
        "        cmbr[iT] = self.mCmbr/(1-self.pCmbr)**2 \\\n",
        "            *(1-2*self.pCmbr+2*self.pCmbr*x_copy[iT]-np.square(x_copy[iT]))\n",
        "        if singleton:\n",
        "            cmbr = cmbr[0] #Output must be a scalar since input was scalar\n",
        "        return cmbr\n",
        "\n",
        "    # Semi-thickness function of NACA 4-digit airfoil series with maximum \n",
        "    # fractional thickness mThk available as a class attribute already\n",
        "    def zt_by_c(self,x_by_c):\n",
        "      A = 1.4845\n",
        "      B = -0.630\n",
        "      C = -1.758\n",
        "      D = 1.4215\n",
        "      E = -0.5075\n",
        "      if np.any(x_by_c < 0) or np.any(x_by_c > 1):\n",
        "        raise Exception('Argument cannot be outside [0, 1]')\n",
        "      return (self.mThk)*(A*np.sqrt(x_by_c) + x_by_c*(B + x_by_c*(C + x_by_c*(D + x_by_c*E))))"
      ]
    },
    {
      "cell_type": "code",
      "execution_count": null,
      "metadata": {
        "id": "F7HW-OavF7Ky"
      },
      "outputs": [],
      "source": [
        "# def visualizeAirfoil(airfoil):\n",
        "#     \"\"\" Function that takes an instantiated object of a class that specifies\n",
        "#         airfoil geometry, and does something with it.\n",
        "\n",
        "#         In this case, it visualizes the airfoil and plots the derivatives of\n",
        "#         its camber and thickness distributions\n",
        "        \n",
        "#         INPUTS:\n",
        "#         airfoil : Instance of airfoil geometry specification class\n",
        "\n",
        "#         OUTPUTS:\n",
        "#         Plots of Airfoil Shape , dz_c/dx and dz_t/dx\n",
        "#     \"\"\"\n",
        "#     # Plot the airfoil\n",
        "#     airfoil.plot()\n",
        "#     # Prepare x-coordinate array for plotting derivatives; omit LE where thickness\n",
        "#     # derivative is theoretically infinite for the NACA 4 digit airfoil family\n",
        "#     x_by_c = np.linspace(0,1,100);  x_by_c = x_by_c[1:]\n",
        "#     plt.figure()\n",
        "#     plt.subplot(2,1,1)\n",
        "#     plt.plot(x_by_c,airfoil.dzc_dx(x_by_c));\n",
        "#     plt.ylabel('dz_c/dx')\n",
        "#     plt.subplot(2,1,2)\n",
        "#     plt.plot(x_by_c,airfoil.dzt_dx(x_by_c));\n",
        "#     plt.ylabel('dz_t/dx')\n",
        "#     plt.xlabel('x/c');\n",
        "\n",
        "# visualizeAirfoil(airfoil=airfoil)"
      ]
    },
    {
      "cell_type": "markdown",
      "metadata": {
        "id": "NEKRs68y_q95"
      },
      "source": [
        "####Question 2\n",
        "Write a Python class with a method to solve for the flow around an arbitrary airfoil\n",
        "using thin-airfoil theory ((with both vortex and source sheets). Set an object of an airfoil\n",
        "specification class obtained in the previous step as an attribute of the current class.\n"
      ]
    },
    {
      "cell_type": "markdown",
      "source": [
        "We proved that all potential flow problems can be represented using sources and vortex sheets"
      ],
      "metadata": {
        "id": "CW9ZntFqBDKj"
      }
    },
    {
      "cell_type": "markdown",
      "source": [
        "First we see the solutions for the 3 separate problems :\n",
        "Before we write anything , x means x coordinate per unit chord .\n",
        "* Angle of Attack problem\n",
        "$$\n",
        "\\gamma(x)=2V_\\infty \\sqrt{\\frac{1-x}{x}}\\\\\n",
        "q(x)=0\n",
        "$$\n",
        "* Camber problem\n",
        "$$\n",
        "\\gamma(\\theta)=2V_\\infty\\bigg(A_0\\frac{1+\\cos\\theta}{\\sin\\theta}+\\sum_{n=1}^{\\infty}A_n\\sin{n\\theta}\\bigg)\\\\\n",
        "q(x)=0\n",
        "$$\n",
        "* Thickness problem\n",
        "$$\n",
        "\\gamma(\\theta)=0\\\\\n",
        "q(x)=2V_\\infty z'_t(x)\n",
        "$$\n"
      ],
      "metadata": {
        "id": "Y3iGqjg8_uaz"
      }
    },
    {
      "cell_type": "markdown",
      "source": [
        "From the solutions , we need to find $c_l$ , $c_{m,c/4} $ , $c_p$ , these are the sectional coefficients of the prescribed airfoil .\n",
        "We know that $c_p$ is different for upper and lower surfaces in total , by vortex sheet singularity , we get :\n",
        "$$\n",
        "c_{p,u}(x)=-\\frac{\\gamma(x)}{V_\\infty} , c_{p,l}(x)=\\frac{\\gamma(x)}{V_\\infty}\n",
        "$$\n",
        "And for the thickness problem $c_p$ contribution is same for upper and lower surface :\n",
        "$$\n",
        "c_{p,thickness}=-\\frac{2}{\\pi}\\int^1_0\\frac{z'_t(\\zeta)}{x-\\zeta}d\\zeta\n",
        "$$\n",
        "Now we add and find the final $c_{p,u}$ and $c_{p,l}$ \n",
        "$$\n",
        "c_{p,u}(x)=-\\frac{\\gamma(x)}{V_\\infty} -\\frac{2}{\\pi}\\int^1_0\\frac{z'_t(\\zeta)}{x-\\zeta}d\\zeta \\\\\n",
        "c_{p,l}(x)=\\frac{\\gamma(x)}{V_\\infty}-\\frac{2}{\\pi}\\int^1_0\\frac{z'_t(\\zeta)}{x-\\zeta}d\\zeta\n",
        "$$\n",
        "For this we need $\\gamma(x)$ , and $\\gamma$ contribution is only from AoA and camber problem which is implemented directly into the code with conversions from x/c space to theta space as follows :\n",
        "$$\n",
        "x/c=\\frac{(1-\\cos\\theta)}{2}\n",
        "$$\n",
        "And for finding $\\gamma$ we have to find the values of $A_n$ \n",
        "$$\n",
        "A_0=-\\frac{1}{\\pi}\\int^\\pi_0\\frac{dz_c}{dx}(\\theta)\\space d\\theta\\\\\n",
        "A_n=\\frac{2}{\\pi}\\int^\\pi_0\\frac{dz_c}{dx}(\\theta)\\cos n\\theta \\space d\\theta \\space for \\space n\\geq 1\n",
        "$$"
      ],
      "metadata": {
        "id": "7dz2KzXREPX-"
      }
    },
    {
      "cell_type": "markdown",
      "source": [
        "For solving the flow problem using thin airfoil theory , first we calculate the fourier coefficients for camber problem . Some controls like the number of points for plotting $c_p$ vs $x/c$ are absent since the class is not written like a script but a block code ."
      ],
      "metadata": {
        "id": "hJkXLbFG_TYS"
      }
    },
    {
      "cell_type": "code",
      "execution_count": null,
      "metadata": {
        "id": "YKYnFkcLDBS0"
      },
      "outputs": [],
      "source": [
        "class ThinAirfoilSolver():\n",
        "  # \"\"\"  \n",
        "  #       A Python class with a method to solve for the flow around an arbitrary\n",
        "  #       airfoil using thin-airfoil theory\n",
        "  # \"\"\"\n",
        "\n",
        "## init definition with optional parameters for fourier coefficient count\n",
        "  def __init__(self,airfoil,orderofA=10):\n",
        "    self.airfoil=airfoil\n",
        "    self.orderofA=orderofA\n",
        "    self.A=self.printa()\n",
        "## end init definition ( note that A is an attribute of the object since its we \n",
        "## know As are dependent only on the airfoil class)\n",
        "\n",
        "## method to generate An\n",
        "\n",
        "  def printa(self):\n",
        "#  '''\n",
        "#       Returns the fourier coefficients for the camber problem \n",
        "#       (which is independent of alpha)\n",
        "\n",
        "#  '''\n",
        "    A=[]\n",
        "    for i in range(self.orderofA+1):\n",
        "      if i==0:\n",
        "        def I(theta):\n",
        "          return self.airfoil.dzc_dx((1-np.cos(theta))/2)\n",
        "        A.append((-1/np.pi)*integrate.quad(I,0,np.pi,limit=2000)[0])\n",
        "      else :\n",
        "        def Ji(theta):\n",
        "          return self.airfoil.dzc_dx((1-np.cos(theta))/2)*np.cos(i*theta)\n",
        "        A.append((2/np.pi)*integrate.quad(Ji,0,np.pi)[0])    \n",
        "    return A\n",
        "## end method for A generation\n",
        "\n",
        "## Main method with coefficient generator \n",
        "  def Coef_Gen(self,alpha,Plotflag=False):\n",
        "    alpha=alpha*(np.pi/180)\n",
        "\n",
        "# \"\"\"\n",
        "#     Description\n",
        "#       Generates Airfoil Coefficients for a given angle of attack\n",
        "    \n",
        "#     Inputs \n",
        "#     ======\n",
        "#     alpha - is the angle of attack in degrees\n",
        "\n",
        "#     Outputs\n",
        "#     ======\n",
        "#     Array      - in the format below\n",
        "#         [cl_sec,cm_ac_sec,y_1,y_2]\n",
        "#         cl_sec - Sectional lift Coefficient\n",
        "#       cm_ac_sec- Sectional pitching moment coefficient at x/c=1/4\n",
        "#       y_1      - y coordinates for upper surface coefficient\n",
        "#                                                    with np.linspace(0,1,100)\n",
        "#       y_2      - same as y_1 but for lower surface\n",
        "\n",
        "# \"\"\"\n",
        "\n",
        "  ## Generating cl sectional for given angle of attack \n",
        "    cl_sec=2*np.pi*alpha+(2*self.A[0]+self.A[1])*np.pi\n",
        "  ## Generating Pitching moment at c/4 ( which is the aerodynamic center for \n",
        "  ## thin airfoil theory )\n",
        "    cm_ac_sec=(-np.pi/4)*(self.A[1]-self.A[2])\n",
        "    epsilon=0.01\n",
        "    B=self.A\n",
        "  ## gamma1 is the gamma due to AoA problem  \n",
        "    def gamma1byv(theta,alpha):\n",
        "      if theta < epsilon :\n",
        "        return gamma1byv(epsilon,alpha)\n",
        "      return 2*alpha*(1+np.cos(theta))/np.sin(theta)\n",
        "  ## gamma2 is the gamma due to camber problem \n",
        "    def gamma2byv(theta,B):\n",
        "      if theta < epsilon :\n",
        "        return gamma2byv(epsilon,B)\n",
        "      first=(1+np.cos(theta))/np.sin(theta)\n",
        "      sum=first*B[0]\n",
        "      for i in range(1,len(B)):\n",
        "        sum+=B[i]*np.sin(i*theta)\n",
        "      sum*=2\n",
        "      return sum\n",
        "\n",
        "    def totgamma(theta,B,alpha):\n",
        "      return gamma1byv(theta,alpha)+gamma2byv(theta,B)\n",
        "  ## Coordinate transform as as function \n",
        "    def totgamma_x(x,B,alpha):\n",
        "      theta=np.arccos(1-2*x)\n",
        "      return totgamma(theta,B,alpha)\n",
        "\n",
        "    delta=0.01\n",
        "  ## Directly implementing pressure coefficent due to thickness problem \n",
        "    def Cp_t(x):\n",
        "      def I(zeta):\n",
        "        if zeta > x-delta/2 and zeta < x + delta/2:\n",
        "          return 0\n",
        "        else:\n",
        "          return (self.airfoil.dzt_dx(zeta))/(x-zeta)\n",
        "      integral=integrate.quad(I,0.01,1)[0]\n",
        "      return (-2/np.pi)*integral\n",
        "  ## Now we get pressure coefficients due to total airfoil by adding     \n",
        "    def cp_u_total(x,B,alpha):\n",
        "      return -1*totgamma_x(x,B,alpha)+Cp_t(x)\n",
        "\n",
        "    def cp_l_total(x,B,alpha):\n",
        "      return totgamma_x(x,B,alpha)+Cp_t(x)\n",
        "  ## creating empty arrays for storing upper and lower surface cp plot points  \n",
        "    y_1=[]\n",
        "    y_2=[]\n",
        "  ## Depending on whether plotflag is on or off, we plot the cp vs x graph\n",
        "    if Plotflag :\n",
        "      x_1=np.linspace(0,1,100)\n",
        "\n",
        "      for i in tqdm(x_1,desc='Computing plotting points'):\n",
        "        y_1.append(cp_u_total(x=i,B=B,alpha=alpha))\n",
        "        y_2.append(cp_l_total(x=i,B=B,alpha=alpha))\n",
        "      fig=plt.figure(figsize=(10,10));\n",
        "      ax=fig.add_subplot(1,1,1);\n",
        "      ax.plot(x_1,y_1);\n",
        "      ax.plot(x_1,y_2);\n",
        "      ax.legend(['Cpu','Cpl']);\n",
        "      ax.axis(ymin=-2,ymax=2);\n",
        "      ax.grid()\n",
        "      ax.set_title(self.airfoil.name);\n",
        "      ax.invert_yaxis()\n",
        "\n",
        "    return [cl_sec,cm_ac_sec,y_1,y_2]"
      ]
    },
    {
      "cell_type": "markdown",
      "metadata": {
        "id": "5mXJ1USKDA_2"
      },
      "source": [
        "Now we test this class for NACA 4412 at AoA = 8 degrees ."
      ]
    },
    {
      "cell_type": "code",
      "source": [
        "airfoil1=NACA4digit(digits='4412')\n",
        "model=ThinAirfoilSolver(airfoil1)\n",
        "cl_sec,cm_ac_sec,y_1,y_2=model.Coef_Gen(8,Plotflag=True)"
      ],
      "metadata": {
        "colab": {
          "base_uri": "https://localhost:8080/",
          "height": 469,
          "referenced_widgets": [
            "a37673f9e6bd465db85d6a6f0b6fbf8d",
            "1af8b4779df445efaa7535f6f86b850c",
            "887e431f9f254f4ea5fffb996bced7ff",
            "4470493a6cae42dba4431b45befc5027",
            "0f1c703dcc484bd0a1fd814b3ab3c36d",
            "00c9ee332c2f492983821ba6c8d474c9",
            "1e8e602ff5e24217864cda8f7b29289d",
            "74b67d714afd4c9aae9c5c3aefbbb97e",
            "fb68cfc0c21c4c7cb5e0af5c0c75b2eb",
            "3c3a995768fc4a7bad8381765b7f3bee",
            "23c4e79fd29a42b78146234c3dba31fc"
          ]
        },
        "id": "3-Lwz9kWi4W5",
        "outputId": "df9a9b38-302a-4e76-82cb-a5dfd151da21"
      },
      "execution_count": null,
      "outputs": [
        {
          "output_type": "stream",
          "name": "stderr",
          "text": [
            "/usr/local/lib/python3.7/dist-packages/ipykernel_launcher.py:32: IntegrationWarning: The occurrence of roundoff error is detected, which prevents \n",
            "  the requested tolerance from being achieved.  The error may be \n",
            "  underestimated.\n"
          ]
        },
        {
          "output_type": "display_data",
          "data": {
            "text/plain": [
              "Computing plotting points:   0%|          | 0/100 [00:00<?, ?it/s]"
            ],
            "application/vnd.jupyter.widget-view+json": {
              "version_major": 2,
              "version_minor": 0,
              "model_id": "a37673f9e6bd465db85d6a6f0b6fbf8d"
            }
          },
          "metadata": {}
        },
        {
          "output_type": "stream",
          "name": "stderr",
          "text": [
            "/usr/local/lib/python3.7/dist-packages/ipykernel_launcher.py:98: IntegrationWarning: The maximum number of subdivisions (50) has been achieved.\n",
            "  If increasing the limit yields no improvement it is advised to analyze \n",
            "  the integrand in order to determine the difficulties.  If the position of a \n",
            "  local difficulty can be determined (singularity, discontinuity) one will \n",
            "  probably gain from splitting up the interval and calling the integrator \n",
            "  on the subranges.  Perhaps a special-purpose integrator should be used.\n"
          ]
        },
        {
          "output_type": "display_data",
          "data": {
            "text/plain": [
              "<Figure size 432x288 with 1 Axes>"
            ],
            "image/png": "[encoded data removed]"
          },
          "metadata": {
            "needs_background": "light"
          }
        }
      ]
    },
    {
      "cell_type": "code",
      "source": [
        "# cpvsx=open('cpvsx.txt')  \n",
        "# import csv\n",
        "# points=csv.reader(cpvsx,delimiter='\\t')\n",
        "# x=[]\n",
        "# cp=[]\n",
        "# for i,xi in enumerate(points):\n",
        "#   a=xi[0].split()\n",
        "#   x.append(float(a[0]))\n",
        "#   cp.append(float(a[2]))\n",
        "# plt.plot(x,cp)\n",
        "# x1=np.linspace(0,1,100)\n",
        "# plt.plot(x1,y_1)\n",
        "# plt.plot(x1,y_2)\n",
        "# plt.ylim([-4,2])"
      ],
      "metadata": {
        "id": "mi2OxlNwkr9i"
      },
      "execution_count": null,
      "outputs": []
    },
    {
      "cell_type": "markdown",
      "source": [
        "####Question 3\n",
        "Use the above functions repeatedly in a loop in another program to draw the $c_l − α$\n",
        "curve and $c_{m,c/4} − α$ for an arbitrary (user-specified) cambered NACA 4-digit airfoil. Note that\n",
        "you would NOT want to plot the pressure distribution for each data point; hence the plotting\n",
        "flag was incorporated in the previous class and should be set to FALSE in the present calls."
      ],
      "metadata": {
        "id": "qWF4hF1Wu8dd"
      }
    },
    {
      "cell_type": "markdown",
      "source": [
        "User input for a NACA airfoil , we need to plot $c_l − α$ curve and $c_{m,c/4} − α$ . Before we get user input , we create a function to plot cl vs alpha , cm,c/4 vs alpha ."
      ],
      "metadata": {
        "id": "ASokom0V6_oI"
      }
    },
    {
      "cell_type": "code",
      "source": [
        "def polarplotter(digits,ylim=[-5,5],xlim=[-30,30]):\n",
        "  airfoil1=NACA4digit(digits=digits)\n",
        "  model=ThinAirfoilSolver(airfoil1)\n",
        "  x=np.linspace(xlim[0],xlim[1],61);\n",
        "  cl=[]\n",
        "  cm=[]\n",
        "  for i in x:\n",
        "    cl_sec,cm_ac_sec,_,_=model.Coef_Gen(i);\n",
        "    cl.append(cl_sec)\n",
        "    cm.append(cm_ac_sec)\n",
        "  fig1=plt.figure(figsize=(10,10));\n",
        "  ax1=fig1.add_subplot(1,1,1);\n",
        "  ax1.grid();\n",
        "  ax1.plot(x,cl);\n",
        "  ax1.plot(x,cm);\n",
        "  ax1.axes.set_xticks(np.arange(-30,34,step=4), minor=False);\n",
        "  ax1.axes.set_yticks(np.arange(-4,5,step=1), minor=True);\n",
        "  ax1.spines['left'].set_position('center');\n",
        "  ax1.spines['bottom'].set_position('center');\n",
        "\n",
        "  ax1.legend(['Section Lift coefficient','Section Pitching Moment coefficient']);\n",
        "  ax1.set_title('Polar vs α plots for the airfoil - '+airfoil1.name);\n",
        "# by returning the plot object , cl and cm arrays , we can make use of this \n",
        "# in later problems\n",
        "  return [ax1,cl,cm]"
      ],
      "metadata": {
        "id": "Spn_mf7Q7fTs"
      },
      "execution_count": null,
      "outputs": []
    },
    {
      "cell_type": "markdown",
      "source": [
        "The cell below when executed asks for user input as a length 4 string containing the NACA 4 digits and then plots the lift and pitching moment coefficients ."
      ],
      "metadata": {
        "id": "v9abewP1Gb4d"
      }
    },
    {
      "cell_type": "code",
      "source": [
        "NACA=input('Enter the NACA digits: ')\n",
        "polarplotter(NACA);\n"
      ],
      "metadata": {
        "colab": {
          "base_uri": "https://localhost:8080/",
          "height": 666
        },
        "id": "2kvHSwCV-wqR",
        "outputId": "ab3e348e-6e77-4c92-f2c3-b755902db236"
      },
      "execution_count": null,
      "outputs": [
        {
          "name": "stdout",
          "output_type": "stream",
          "text": [
            "Enter the NACA digits: 3312\n"
          ]
        },
        {
          "output_type": "stream",
          "name": "stderr",
          "text": [
            "/usr/local/lib/python3.7/dist-packages/ipykernel_launcher.py:32: IntegrationWarning: The occurrence of roundoff error is detected, which prevents \n",
            "  the requested tolerance from being achieved.  The error may be \n",
            "  underestimated.\n"
          ]
        },
        {
          "output_type": "display_data",
          "data": {
            "text/plain": [
              "<Figure size 720x720 with 1 Axes>"
            ],
            "image/png": "[encoded data removed]"
          },
          "metadata": {
            "needs_background": "light"
          }
        }
      ]
    },
    {
      "cell_type": "markdown",
      "source": [],
      "metadata": {
        "id": "yVh5XeY_Q2h4"
      }
    },
    {
      "cell_type": "markdown",
      "source": [
        "####Question 4\n",
        " Present a detailed comparison of your results for any cambered NACA 4-digit airfoil ,\n",
        "with those obtained from XFOIL (run in inviscid mode). In particular, compare the lift slope\n",
        "and the $α_L=0$ value for your chosen airfoil with the XFOIL output. Also, compare your prediction of $c_{m,c/4}$ with the XFOIL result as a function of α. Finally, present the pressure coefficient\n",
        "plot for $α = 8^\\circ$\n",
        ", and compare with the XFOIL output. Overlay your results on the XFOIL\n",
        "results in the same plot for ease of verification."
      ],
      "metadata": {
        "id": "oWlODMrYQ6uj"
      }
    },
    {
      "cell_type": "markdown",
      "source": [
        "Now we find $\\alpha$ at L=0 i.e at c_l = 0 . For this we use the coefficients and find the inverse function for the c_l .Note that since we need only A_0 and A_1"
      ],
      "metadata": {
        "id": "cX_ibHmQjpP1"
      }
    },
    {
      "cell_type": "code",
      "source": [
        "airfoil3312=NACA4digit(digits='3312')\n",
        "model3312=ThinAirfoilSolver(airfoil3312,orderofA=1)\n",
        "A=model3312.A"
      ],
      "metadata": {
        "id": "6ijHloXij9M3"
      },
      "execution_count": null,
      "outputs": []
    },
    {
      "cell_type": "markdown",
      "source": [
        "![image.png](data:image/png;base64,iVBORw0KGgoAAAANSUhEUgAAAXAAAAAyCAYAAABF/oDsAAAAAXNSR0IArs4c6QAAAARnQU1BAACxjwv8YQUAAAAJcEhZcwAADsMAAA7DAcdvqGQAABqiSURBVHhe7Z0JXFRV+8d/M+wqISC7IJILKioCSiqgRC5lZVZvWZEVauX2f5Xcd0XRQlNLDNx5wRRMBDNJc0GQxURc2ZR9kX1HYGBmzv8OcwcGmIHBsKLO9/O5n5nz3Hvnnuec5z7nOc89M8MhDKBQKBRKj4Ozb98+snbtWnA4HFZEoVAolJ4AZ968ecTKygpubm6siEKhUCg9Ac7nn39ObGxs8MUXX7AiCoVCofQEuOwrhUKhUHoY1IFTKBRKD4U6cAqFQumhUAdOoVAoPRTqwCkUCqWHQh04hUKh9FCoA6dQKJQeCnXgFAqF0kOhDpxCoVB6KNSBUygUSg+FOnAKhULpoVAHTqFQKD0U6sApFAqlh0IdOIVC6RrCIkRfiEKhkC1T5CJIu4ZfHz5lS92PnJ+TFeJJ7FlcS61Dh3/Xo2SC8e8440VVtvxXIKzA3bMBuJSQjzKdqVi9eBL6MvWvuHsWAZcSkF+mg6mrF2NSX/b4LlB9LxjHf32Iwoq+cHZfDBe9f8J414CcK744FiuESn01hn22Gm9ZKLP7FKTmAc4eC8PDogq8MOm/WPKKAY0E5CAUCsHl/pNapwKRX29G3ORtWGbfh5VJEDL6chl92aKCCPOD8MXiNCwOXIPRXTTFPxVhPoK+WIy0xYFYo2hFhTk4vdwT5fP34fNh3e8o5Ta1Rr/+MO6dgqNLPsGXhx5Be8BADBzIbOZmMOqrjPL7p7BlwTqczhCwZ/xFcDVgbGUD5Zu+OJnQCA2xEBrGVrBRvgnfkwloFAs7RFhdgeo2qqgZDYd1v1QE7gtCfFVHQxkfdzwdYGA2G/5P/rywhH/HEw4GZpjt/4S5dRSj4tdleG1dMV5dPB5VZz2x/UQKu0c+7a6jbojhNvpID9qDk7cqOh7k/5XwkBrsiZUrVmOV+wJ8MG0yXl/qh3vV7O4eixBFIRvgqzwPi6SdNy8VwZ4rsWL1Krgv+ADTJr+OpX73oJi65bi4eQ38IpORyWdFf1PKL27GGr9IJHelolxTvLP+LaRs3Ynf61lZNyLHgXOhPcgezjOmYnQ/JfQyt4WL40RMnMhsDk5weX02lnwTgpA1ZijO+6tbXQ36g3TBK+NirKMdU2Kl+oOgyysDd6wj7CRCuQiQcew7BJW0doOq+paY+Pp4mCuxArlwYTDaBVNc7DHohT8v2uIajIbLFBfYD3pB/kjcilpc8f8JSq/MxBitcdh8LR0XV41g98mn3XWU9TB04huY0NXI/V9CdfguHCh5Cx5eO+G1lwksgnbAOmoRprkeQfpfHO80UZuAG78XKTzoN1Mbia99gI+/sEJLLFmN8F0HUPKWB7x2emGv70kE7bBG1KJpcD2SztxZHVMbcwTn0pkIq6oQBd09wD2rnrKojcGRc+lMgFiFwi5WlKvzCha+dBsevimdtkdX6fy+l/tXmcoY+vpYaBc8h2GliwhLI3HjkRWcHF5gJQzCUkTeeAQrJwdISeVQhbjbyUwcLZvO/y2UC+MZWxBwbBnGt51VPke4xjOwJeAYlil80XqUldVBS1e3qePV9Ayho8CsTvZ16H+oyqYCv/iFg6ctCgtYtMbDfckU1IV9h6N3//owU5B7AQdOMTNTtqwYTPR99gfE2bjCWdoMKn6BXzgP2lKuSWu8O5ZMqUPYd0fRoboND+EXpo0FbiOgISxGQUH3ts2z6SmLBjz0C4P2AjeM0BCiuKBArq+QjRJe/PgDvPDTEdxsYEXdRNfDRX4CIm4UNI1qyi+Ow7A+NWK5CCEP9d1cQUWoi47A3QEOcDKWUqcuGhF3B8DBybhTJStu7Mbu86XdM1I/Bxpqa7toMJ0hx/l2S/8JUF9Zifqm+1kAQXeHHH93hHWoeBKFg+sPI16qLXsbG6IvyUNW9l/vwJsgXU18VeDi2UewnmotFX2L1K3Ak6iDWH84nnFzEnrD2LAvSF4W5KvLzHpPngZ/liuGMm2jh2LkFzwHY+mynu0RZJzEaf4suA41hqEeUJxfIDVcKYjOFEzRu4hT0TxW0D102YELS2JxKaZE7OzUHfHOmybgZ57HloXu2OEbgB/99sNz1Rr43iwXHyPMwblNs+E0xAAW804h5qQXti95FdZTduKWQs5CiNKoA9i0zRuHvD3h9b9T2LvuGO43G0YD4q/fhOo4RwyTmtE3xF/HTdVxcJQWtoOP5JCtWLE1CCnVjxHqsQorVqzElsDEdg5TWBCB//kcxlHf3Vj67htYEpjefAwvdj8+mzoKJvovwyuF6Vom+r/y9Ry4jDCG/ps+uHfdD94HfOC9aynefWMJAtMVuYmFKI8NwJ493+HYqRPYteQjzNt5BU8klsOLxf7PpmKUiT5e9hJPzYQ557BpthOGGFhg3qkYnPTajiWvWmPKzluoL76G/as34+xjHtJ/Fudnv/01r6mPOuw/GdeRDR/pZzyx6Vs/hF4Lx7kffeHx0RT83wV2hlYbC693X8V8v2RxubsRFCHadzM27zuC48eO4Ifd3+FcmiLt3M1wjeDmdxvxl7fBodnTMX2Zmo5ijjkGDRLbo7AwHLvmvoqJdjYYM2ZMm80Gdq9sQoTUvS4oiobvpvXw3LMfB/ZuwmJ3H8Q1z+TrUd+9fqE99dEIv2sOW+vW+UiukRv8bsfj8jaHFscuLEdqejE45oPAqtsOYUEI/Atd8NkYNSgbGjEOvBSFBX9B9NcZwgKE+BfC5bMxUFM2hBHjwEsLC6QGK0XRgp21BuIiU9lyG4SFCN81F69OtINNO3sYAxu7V7BJ2iAkiFah+Pj4EJnwIsjSwSqkz7i5ZKeXF/nGcz353NmCvLTlAWlkDxGU/EIW2kwmHvFPWQlD+a9kod3LxOsejxU0kjsbxhC9cR+SPZfLSF3UDjJr1jYSKXWKbASk6PJqMtllI4mtEZWfkrDPTYna8FXkpuSj+Ylku70eeedEOSsQwSeJ2+2J3jsniLRUHo13N5IxvaeQAwUCVtKCoOAAmdLLnExefZpk8cWyurD5xMzEjZyvE5dFCHL3Eefe9sQzmT2IqXvGbkfSa9gM4nEmi6mRiDoSNt+MmLidZ951Ai+cfOX8OtkdXSUuNyYQz/EGZNqBDPazGAS5ZJ9zb2Lvmdwia7xDNozRI+M+3EMul9WRqB2zyKxtkUzLiSglB6f3aXW8Qv0n6zptP+vpWTJ3+lZyX2IYjP75R93IklBW06ow4m47hDhvvykudyeNqcTf1Z5M33mLVIvK/Mfk+KdjyKQNcc122jGN5H7AeuK+bClZurTzbdlKbxJR1t5W5MJPIbucNInJeydIrui0p7eI15w5ZOvJqyQ2NoCsWuFDYuLiyLXt7mRj2C0SFx9P7meUN7d1Y6o/cR07jXj+ztoCsydphwOxXHCpSV9ejDfZH1Ev3qUA/JRvyAdLrxDFz2DOSf2GOA1fRiIl910H8FN2ESdNE/LeiVzGCmRRTn7z9CA/l7B7K46TNzVUyISvU6Xs64/zLHq2pfw3T+LxcwmrRwU5/qYGUZnwNUl9hopW+88iJh+cZkvSPCW3vOaQOVtPkquxsSRg1QriExNH4q5tJ+4bw8ituHgSfz+DlMu4pkIRuNoAB/zn/ffx3nvv4i3noejbPAPnI+HAZgTo/AdzR/diZQx9nfGhUx52bTvDCjjQ0FBFdZk+bB21oT5hNYKD18FB6hSZVP+GjV8GwGzxMtj3FgmU0buXBvTHO2EUO9wLSyIR2S7/XYLISEXz3wpAGjF40uswYx9mKpuYQK8iB9mVLUkXroYG1NpkJjQ01EGqjGH3mhnEpyrDxEQPFTnZkDpVDmrQVa/C49wacSSsPAgTx2oyI3hcS06PqwGNthflMDLVapTp28JRWx0TVgcjeJ0DZDe1gv0n6zptqa9E6b1QHAxOQkVThbnQn+qKmQPZEExzOnbHpeDq2nHicrfBx4Pdn8I97S18u9wOTelZ0gCu4TS4vTsMyvw8/P5zIAKCf286WjbKGDzlM8yfP1+xbe5bGKOl6ORVgLSjy+HDW4yAH2bDhCtEwbV49F97CBtmO8O2VwE0Rr2Nl2ytmNm+Dhyc7WDLRFwjzfuKbYb/ALs//QoZ7+zBSqb/xShhoL01GkNP4lp9LaJiBbAe1+mT+j+EoLAQZVq60O3sgb4gDUeX+4C3OAA/zDaROcWvjT2KSPNP8Jouu1fdEIY6QHFBvowZnmhpIvv2z4aZNR6NNMcnr4mfGTEVhaG4osiXNRVlKtpRVVV0daFS+IQttSAsuIb4/mtxaMNsONv2QoHGKLz9ki2sCIGOgzPsbJkofKQ5+spo+47yC81wNbRhbGrKVN8UA5a54cFhdoewGBHXH0DFyAjarXpKCUbMXKMi8Crz/gOxiEHJ1AKKL1xgDP20N07VvIzjU9hF3IIMRN0shd2C8UxdxNRFifPfnq3y31Hi/Ldn5/lvheDqwciwpeIcLpcZkvjgy88nNMPVM0LLqRxwuYwj5PM7SEWwqL6ENReuoizxEo7vOoYS9X6oTa9Dg2pDh0YiRgmmFhadd24X+69DdN7B2uVn8P6nVjj4pRlG2Dph1uJ1cJ+pcIc/GzW/YPe+Oxi19kcMlRi48nB8vGOH+L2AhxfyArH+/KtwfVv+4KGubwFLfbbQjVREbsGi0yPhc84Dk3XEjWw443PMbnrHx8PQTGh9wDgFwSPcyuPg1TY3ac0vu7Hv7misPzVU7NBZlPr1Q9/Kx8hLOoNKrWlYLtN/NyBu/xfwvFwGgXQquDYd8Vnn8J/0fVJPQzjM2D8GX3pvwHSJY5WC1NWCp2LYvMpLNhWI3LIIp0f64JzHZLDqtoafgCPeEcjRzcFXkjGVlCORqaDk4aA4NmvAo0AP+KYYYdSARjxK0cT7690wSmYk0n16tsAEN0e8EZGji5yWiqI8UQDCOPCm561NFRWiIikcv928jd8OX4b5wQtYO1zOKKeuBtWG9os+uIYz8LnYIMB/GIpMrQ+gw3iIR7fywGlrEG3oSAPZ9HKB6/sS58ADr4HIf07Aa52z4aipQ0PhKzYgNjwGfLtJcGiKvhnKohCVYgVHRy1W0IDbEbegbu+I4VJ+ouF2BG6p28NRWqgwTIdkZKC4lZdkul9WAKrI85FnPZWfjqCFTpi+OQkvvv8VVi7+FFOH9lGwwzhQU9dQ4Niu9V/HqGDkohA8fHwTwXuWYLppNo58NAlz/pejwIDz7DTEX0NUuSUmORvJ1ldJE/yifPSf4MgKZPM0LxF379zG7dudb3fuZ7KzjI7hJfhi+WFNbAraDhd9pnbCBjRIp+V5sfgxXgsTTJmbtDEZyZkcqLQylgbEX4tCuaUTJhu21o6jpAQuKcLFwGq8/P6QVs69BVXYLT6G4JBQhIa2bMHec+A4YwtOS8lCQ0MQcmqTXKfGYexJtZEH+WvOeEjwXY7DmpsQtN0FYnUbmhxyCwJk/BgEsjQQR/fuwZ497LbXC66jlVBbWNDcrsLMw3A/qIa56xbik0+WYGH/ECzd+7DN50noPj0lCDJ+RBBZisCje1vquWcvvFxHQ6m2EAXNBsCFuu4gOMycBP26SvCFHdzZ9Tw0qneUduAh9sd4aE0wZfqzEcnJmeC0Noh2dKyFLLhMNG7EVoJrBDsbU9QXtTS8GAEKCoqhOtKOLT8LoiVv9Rg4ehQk7ro2NhJ3TB3gZFSI4KOhKGxMRUR0GWydxoLE+sH/nqh7BUiNiEYZEwGOJbHw878np9Ol4DCjcrNL5ePxhfN48MfXHv0BhMj3X4YFPw/FhkPumGQqjnv4TMjfVMuGW/j1cmGT7A/Rjf0nzDmCLd8/gpqJHWZ84g7Po1cQ5T0ecSHX8Py+SMwMhDU1qFN/EUMkqZpm+KiuZtyNsAgRMU8xztGClcuCj8yoMzh9+if89FPn2+kzl5FYxZ4qB2FeCDwOCbHIewXGsxPIhhgf+EitQqi8eAzhehPF6cDqIhRmFqCo1dSMoKamDuoWQ9p/F4EZdQnhw/JtN4ztyCd0E+K0YTFKW9VPghB5IR44JFwE7xXjIVa3ATE+PpBedCEsPIcTRS5ws20bx2uivwmbmmDtsOS3X3DXeAQsmvTmop+lKXIvhiFL5vW7GWEhzp0ogoubbbsZh2Z/EyY6LkaBpKIM6vpmMNLsOFIW0VhWhoZ+BmxJBpUXcSxcDxPFBoGiwkwUtDaIdnTiwElT/kkoN0RTw8QlK+GSdhoByVI9VR2NwEtKmLNqDitgPkM0MjGfo3j798Lgwaboo9FbHME2JODQd+fROMoOwyovI77IBLqCFKTkDsFYOxXEhCVDw0x0EzciJSUXQ8baQSUmDMkaZp2mErh6BuinVIGSpi/yNKJIqAJ9SX805bWEraJUwsjatYhAJGsdzYq+Rs00ntSxovZsd6YMhHiSlolaPVOYSWYfgmwkp1VDIOBD0JCBlLQ6kVD08cw1pT+TqW2TTFZLS46XGJ+i/SfrOqxMpKMIwkxjg/xxuzlE40Jv6FAMNTIQzzR5t7H/03exLDCtaW93oWLjiLEa5ShtNQLVIyGAmX7frIbwaRRupFvD0UY8MZeNMka8twHbPXdgx47ON88t8zChg59mEJZHYKt7KPrYGyHrMhPxhTBb8EkcOJwE5RdV2IOycdLnKixelqQDORDk3UVcnnS/qcDGcSw0ykvQSj3+E9wIT8JTpb7op6cCQXEhSqX3Pwe4RsMwiJ+F9HajsRDlEVvhHtoH9kZZuCzSldmCTx7A4SRlSNRFQxIOLb+IAR87iJ9TtEIZBob9ROvzxKkJZkAtzCuCaq9ezbNXDuMHVEWpC8UdyDPSgKRDy3FxwMdwkPH1CmUDQ/RrWvLYaVjYBiZISHsCs+HD2XJbhMg+6YOrFi9jPJsf5gjycDcur0OfqWRra7vZyIiJxOykoy0+koI8sOP7E7hwMxulBZlIzUzAzXQN2I0bwH5dXQxXZwymv1SNEx6HcKeqEeXJl+G3/2dw5/6Ar2eaQFmYh7DdG7ErMByPUjORnvUYhb1tYWeu0dw5slFC/8GaiPY7jyq1CkSeS4TFVAuk3qmBSk4RDD6cDWsdDZTF/Io0Zn82xwVznU0ZZ8GBelkMfk1TQ0U2By5znWHa0b3LwNEcDNPan7A/tAa6vFtI1pqGmSO1UR6+H+t3+ONaUjpycvNR2csS/VMPYfO3p3H9cQZys/NQq2OLITnHsW67H64kpiE7Ox8cMytUh2zBDv9rSErPQW5+JXpZ9kfqoc349vR1PM7IRXZeLXRsx2Fgb1mtwIXBQF0UhJ3AL9nq0BKk48YvD2A8axLKAvxw/UlfWLto4vruHfC7koi07Gzkc8zhaPgA323chcDwR0x/pSPrcSF629rBXIO5RkUEvNdubzr+cVoGspl6YehLsBxo03H/SZ0nuc6kF9NxkJWlZufgSfULGDm8HFfD0lHxJAsF9fUoTb4K/7OVmP7VXIwSJdifxuP4Fh/8rj8D85l+6i44faxgZxCNH46mQKVPI7J+v4TzFyJRYT0fX0zSR2O0DzxSxmL9HFv06djgugcmeguaOwVLg27gtzOBCAxkt6AzuFxsjUVrZjYtrRMke+O/u1ThttsVI0Q3lEod7vh/j4TBi/CelSTu46CPlR0MokXOUAWazA1978Y1RN6rwZC3XTEs8xSulKgjOy4b/SeMRD8F59OkNBpn44zx1vSBnT8nkaCsi8rr+3DL7DO8JjXbERYGYe6UpQi68RvOSHRltiBmllJsvQhrZprinu9CzF+wEQdvpKOYWMDZ2RLNz4CZgf3Y2s34/mwMsoqeICcrDzx9exin+iGwxgWL3xjUVEdB7iX4/FSHqQtnoN1kSw5d1ZN32xcL5y/AxoM3kF5MYOHsDMuWiuL2sbXY/P1ZxGQV4UlOFvJ4+hhvZyqO0oX5uHr4ApRmuWGSKH/UjnKE7fOD6ocrMU2yGkIaQTK8/7sLqm674So2CNTd8cf3CYOx6D0r+c8eOlxG2EXqCh+TpMwKBZduKUh9IUlLLyGS1Uv1RWkkrVBqYRCvlKQlZpGqVuuVeKQ0LZFktRZ2goBU5yWSxKyqbl3K9EfhV2WTpKRcUiWpVH0Vqarril6K84f6j19BykXtzbxm3o8jd1MKO18q2Z3wykj6w/skJb9GaulaI7m/2Z5M2Jb4t+rTJvhlJDu3qtUyu/rSkjZ23AKvLIMkPWbaVHo/v5xkJmWQsi52WNPyumVXu7y8rvTkh8RxZXTzvfj8EJCsvc7E+OOzzTZUf3URGWyzgdzpgq7Pqucz0RhH1tnYky0P5FSwLJC4Oq0i0XIbj0/Kspn7vLVBkJJOfJiCY7ZiqOsPguUALcVHdUVQ04cFE41Kgmg1PQtY6EuNR6o6sBhmBs1WmqhCx2IYzFoLO4GLPsbDMMxMU84Dob8GJU1TWFqaoDnFpqYJTfVu7bZm/lD/KWmhr6i9mdcBI20xeoh+80qhPwVVbQwcMRJDDHu35AWFJYi6WQO7iX3w849hrPBvgpI2TE00W+Uw1XR029hxC6ra5rAcxLSp9H6lvhhgaQ7tLnaYktkb+O/Ho5gYr2vovLkQExNO4Opz/1EuLownjodRbjoK2NRQFTNrVbF3wpAu6PqsenY/QmT/FIzad+dhnNxsgBK0TZn7vLVBQLcTHyYnhUKh/APg8PHkxiU8rKmC+oDXYT9Y8kDhX45yP/Q3askvK4yKGWy0LuPr8wZ4zcGwewO1NnANrWCSeAQB+QPwIicWP5yoxkdbv8ToF7pQ62fVs4tU3gnG8aBQhF36Hbl8ZdTxemPYUPbZj4jyS9j2gxALts6ESTc3mpzfA6dQ/inwUVPdgD6af8JSjX8F1YjeuRyXX/oaGyc/w4/sdwk+KjMf4EGeCgbZWcFQbiL4b4wwDyEb96Jyzg580pXpg4J0HJ9TKD0eZeq8uxVNTFjpiem8pD/hH3mUoWU+Bg4Te6jzZhBkpkLTdctzcd4iqAOnUChdg6uLcdPGw4B6j05RspgEF8vnF0DQLqBQKJQeCnXgFAqF0kOhDpxCoVB6KNSBUygUSg+FOnAKhULpoVAHTqFQKD0U6sApFAqlh0IdOIVCofRQqAOnUCiUHgp14BQKhdJDoQ6cQqFQeijUgVMoFEoPhTpwCoVC6ZEA/w92FNmR/zYICgAAAABJRU5ErkJggg==)"
      ],
      "metadata": {
        "id": "5R1VYhq6lYAb"
      }
    },
    {
      "cell_type": "markdown",
      "source": [
        "Now we use this to find alpha at cl=0\n",
        "$$\n",
        "\\alpha=-\\frac{(2A_0+A_1)\\pi}{2\\pi}\n",
        "$$"
      ],
      "metadata": {
        "id": "pupB3L94lZO6"
      }
    },
    {
      "cell_type": "code",
      "source": [
        "alpha_atL0_predicted=-(2*A[0]+A[1])/2\n",
        "alpha_atL0_xfoil=-2.9382\n",
        "error=np.abs(alpha_atL0_predicted-alpha_atL0_xfoil)\n",
        "alpha_atL0_predicted"
      ],
      "metadata": {
        "colab": {
          "base_uri": "https://localhost:8080/"
        },
        "id": "7Fei71HSlug1",
        "outputId": "3855f9ec-c903-46ce-deea-8d3b98791972"
      },
      "execution_count": null,
      "outputs": [
        {
          "output_type": "execute_result",
          "data": {
            "text/plain": [
              "-0.050211108497575055"
            ]
          },
          "metadata": {},
          "execution_count": 139
        }
      ]
    },
    {
      "cell_type": "markdown",
      "source": [
        "From xfoil , we find that $\\alpha_{L=0}=-2.9382$ and from thin airfoil theory , we get $\\alpha_{L=0}=-0.0502$"
      ],
      "metadata": {
        "id": "XQ8-bnwtmBnv"
      }
    },
    {
      "cell_type": "code",
      "source": [
        "print(error)\n",
        "print(\"is the error for AoA at zero lift\")"
      ],
      "metadata": {
        "colab": {
          "base_uri": "https://localhost:8080/"
        },
        "id": "-vQSTlpimdIJ",
        "outputId": "2e15bebb-9704-477f-cbb2-5231f6793844"
      },
      "execution_count": null,
      "outputs": [
        {
          "output_type": "stream",
          "name": "stdout",
          "text": [
            "2.887988891502425\n"
          ]
        }
      ]
    },
    {
      "cell_type": "markdown",
      "source": [
        "We can find the lift slope by fitting the plot points on a line using linear regression ( though we know that in thin airfoil theory , cl vs alpha plot is a line we do this )"
      ],
      "metadata": {
        "id": "sWOKvfeMd9kN"
      }
    },
    {
      "cell_type": "code",
      "source": [
        "from scipy.stats import linregress\n",
        "a=[linregress(alpha, cltft)[0],linregress(alpha, cl)[0]]\n",
        "print(a)"
      ],
      "metadata": {
        "colab": {
          "base_uri": "https://localhost:8080/"
        },
        "id": "fl2y5Deje_t-",
        "outputId": "59ce6868-2987-479e-d5da-270f613bfa0f"
      },
      "execution_count": null,
      "outputs": [
        {
          "output_type": "stream",
          "name": "stdout",
          "text": [
            "[0.10966227112321512, 0.11747115811739817]\n"
          ]
        }
      ]
    },
    {
      "cell_type": "markdown",
      "source": [
        "(0.1096, 0.1175) are the values of lift slope for thin airfoil theory and xfoil respectively.\n"
      ],
      "metadata": {
        "id": "f45b7c3TjF00"
      }
    },
    {
      "cell_type": "markdown",
      "source": [
        "Error for pitching moment is plotted above with a max error of around 40% of the xfoil data values . "
      ],
      "metadata": {
        "id": "lYCNNKEQalyx"
      }
    },
    {
      "cell_type": "code",
      "source": [
        "cm=np.array(cm)\n",
        "cmtft=np.array(cmtft)\n",
        "error=np.abs((cm-cmtft)/cm*100)\n",
        "plt.plot(alpha,error)\n",
        "plt.title('Error for Pitching moment')\n",
        "plt.xlabel('Angle of attack')\n",
        "plt.ylabel('Error')\n",
        "error[-1]"
      ],
      "metadata": {
        "colab": {
          "base_uri": "https://localhost:8080/",
          "height": 312
        },
        "id": "nQROgY5MYUjj",
        "outputId": "aedb3e4b-d85c-46fb-9ade-ef6c71065afc"
      },
      "execution_count": null,
      "outputs": [
        {
          "output_type": "execute_result",
          "data": {
            "text/plain": [
              "45.094942807802106"
            ]
          },
          "metadata": {},
          "execution_count": 123
        },
        {
          "output_type": "display_data",
          "data": {
            "text/plain": [
              "<Figure size 432x288 with 1 Axes>"
            ],
            "image/png": "[encoded data removed]"
          },
          "metadata": {
            "needs_background": "light"
          }
        }
      ]
    },
    {
      "cell_type": "markdown",
      "source": [
        "I choose NACA 3312 for analysis , exported xfoil data is from a temporary repo in my github page , using requests package to make this code self sufficient. "
      ],
      "metadata": {
        "id": "VsrD_L6sYrSR"
      }
    },
    {
      "cell_type": "code",
      "source": [
        "import requests\n",
        "URL = \"https://raw.githubusercontent.com/dakseshkalewar/NACA-3312-Polar-Data/main/3312.txt\"\n",
        "response = requests.get(URL)\n",
        "open(\"polaralpha.txt\", \"wb\").write(response.content)\n",
        "polarsvsalpha=open('polaralpha.txt')  \n",
        "import csv\n",
        "points=csv.reader(polarsvsalpha,delimiter='\\t')\n",
        "alpha=[]\n",
        "cl=[]\n",
        "cm=[]\n",
        "for i,xi in enumerate(points):\n",
        "  if i <=1:continue\n",
        "  a=xi[0].split()\n",
        "  alpha.append(float(a[0]))\n",
        "  cl.append(float(a[1]))\n",
        "  cm.append(float(a[4]))\n",
        "ax1,cltft,cmtft=polarplotter('3312');\n",
        "ax1.plot(alpha,cl)\n",
        "ax1.plot(alpha,cm)\n",
        "ax1.legend(['cl from thin airfoil theory','cm from thin airfoil theory','cl from xfoil data','cm from xfoil data'])\n"
      ],
      "metadata": {
        "colab": {
          "base_uri": "https://localhost:8080/",
          "height": 660
        },
        "id": "SeawrQaYQ82D",
        "outputId": "00e674a2-931a-4d35-e22c-d5f4f4c13d5a"
      },
      "execution_count": null,
      "outputs": [
        {
          "output_type": "stream",
          "name": "stderr",
          "text": [
            "/usr/local/lib/python3.7/dist-packages/ipykernel_launcher.py:32: IntegrationWarning: The occurrence of roundoff error is detected, which prevents \n",
            "  the requested tolerance from being achieved.  The error may be \n",
            "  underestimated.\n"
          ]
        },
        {
          "output_type": "execute_result",
          "data": {
            "text/plain": [
              "<matplotlib.legend.Legend at 0x7f4171be9fd0>"
            ]
          },
          "metadata": {},
          "execution_count": 114
        },
        {
          "output_type": "display_data",
          "data": {
            "text/plain": [
              "<Figure size 720x720 with 1 Axes>"
            ],
            "image/png": "[encoded data removed]"
          },
          "metadata": {
            "needs_background": "light"
          }
        }
      ]
    },
    {
      "cell_type": "code",
      "source": [
        "print(np.abs(a[0]-a[1]))\n",
        "print('is the absolute error of lift slope ')"
      ],
      "metadata": {
        "colab": {
          "base_uri": "https://localhost:8080/"
        },
        "id": "a1xqmYRRjZt5",
        "outputId": "06a7d064-0d4d-418d-db1b-1d5a318376f0"
      },
      "execution_count": null,
      "outputs": [
        {
          "output_type": "stream",
          "name": "stdout",
          "text": [
            "0.0078088869941830424\n",
            "is the absolute error of lift slope \n"
          ]
        }
      ]
    },
    {
      "cell_type": "markdown",
      "source": [
        "Now for the final plot , cp vs x/c , for this also i created a file in the same repo 3312cp.txt which ill use using requests package"
      ],
      "metadata": {
        "id": "vSb6mQF5o4ez"
      }
    },
    {
      "cell_type": "code",
      "source": [
        "URL = \"https://raw.githubusercontent.com/dakseshkalewar/NACA-3312-Polar-Data/main/3312cp.txt\"\n",
        "response = requests.get(URL)\n",
        "open(\"cpvsx.txt\", \"wb\").write(response.content)\n",
        "cpvsx=open('cpvsx.txt')  \n",
        "points=csv.reader(cpvsx,delimiter='\\t')\n",
        "x_xfoil=[]\n",
        "cp_xfoil=[]\n",
        "for i,xi in enumerate(points):\n",
        "  if i <=1:continue\n",
        "  a=xi[0].split()\n",
        "  x_xfoil.append(float(a[0]))\n",
        "  cp_xfoil.append(float(a[2]))\n"
      ],
      "metadata": {
        "id": "bV_DvmnMpCzw"
      },
      "execution_count": null,
      "outputs": []
    },
    {
      "cell_type": "markdown",
      "source": [
        "Now that we have the arrays cp for xfoil , we can use this and the thinairfoil theory object to compute cpu vs x  and cpl vs x and then plot them all , but note that we have to use the full model ( meaning 10 coefficients instead of 2 ) plot cp"
      ],
      "metadata": {
        "id": "UyCdLQ5bp9tT"
      }
    },
    {
      "cell_type": "code",
      "source": [
        "model3312_full=ThinAirfoilSolver(airfoil3312)\n",
        "_,_,y_1,y_2=model3312_full.Coef_Gen(alpha=8,Plotflag=True)"
      ],
      "metadata": {
        "colab": {
          "base_uri": "https://localhost:8080/",
          "height": 469,
          "referenced_widgets": [
            "f768f0d1831f45789f38bf3f8ae5d58b",
            "eafe7efc8d91495886f952ad958df5c2",
            "6a4f640d271a4d1cb043b0646c2485ea",
            "c0ff2b7b630d45b888bcab077d45ac07",
            "58141b4cf892407499d8c5ee7f2af48d",
            "41e6c7ba33a6466d98d7e6c295c42afc",
            "732103f690cd4422818c4835c128fa99",
            "20961447dcdc43a79f5b260e64fbde1c",
            "e5c43104a17c47d0af6775371ef42811",
            "6472c583b45c4cfeb2a83a9546b71833",
            "e88d296bf1d2417b99b5cd14c3a87d03"
          ]
        },
        "id": "Vk0mBz0jqPhc",
        "outputId": "7b31d1b5-4b75-4825-9132-41f715f4c379"
      },
      "execution_count": null,
      "outputs": [
        {
          "output_type": "stream",
          "name": "stderr",
          "text": [
            "/usr/local/lib/python3.7/dist-packages/ipykernel_launcher.py:32: IntegrationWarning: The occurrence of roundoff error is detected, which prevents \n",
            "  the requested tolerance from being achieved.  The error may be \n",
            "  underestimated.\n"
          ]
        },
        {
          "output_type": "display_data",
          "data": {
            "text/plain": [
              "Computing plotting points:   0%|          | 0/100 [00:00<?, ?it/s]"
            ],
            "application/vnd.jupyter.widget-view+json": {
              "version_major": 2,
              "version_minor": 0,
              "model_id": "f768f0d1831f45789f38bf3f8ae5d58b"
            }
          },
          "metadata": {}
        },
        {
          "output_type": "stream",
          "name": "stderr",
          "text": [
            "/usr/local/lib/python3.7/dist-packages/ipykernel_launcher.py:98: IntegrationWarning: The maximum number of subdivisions (50) has been achieved.\n",
            "  If increasing the limit yields no improvement it is advised to analyze \n",
            "  the integrand in order to determine the difficulties.  If the position of a \n",
            "  local difficulty can be determined (singularity, discontinuity) one will \n",
            "  probably gain from splitting up the interval and calling the integrator \n",
            "  on the subranges.  Perhaps a special-purpose integrator should be used.\n"
          ]
        },
        {
          "output_type": "display_data",
          "data": {
            "text/plain": [
              "<Figure size 432x288 with 1 Axes>"
            ],
            "image/png": "[encoded data removed]"
          },
          "metadata": {
            "needs_background": "light"
          }
        }
      ]
    },
    {
      "cell_type": "markdown",
      "source": [
        "Now we do an overlapped plot with the x foil data "
      ],
      "metadata": {
        "id": "nXZVlK8HrQHb"
      }
    },
    {
      "cell_type": "code",
      "source": [
        "x=np.linspace(0,1,100)\n",
        "fig=plt.figure(figsize=(10,10));\n",
        "ax=fig.add_subplot(1,1,1);\n",
        "ax.plot(x,y_1);\n",
        "ax.plot(x,y_2);\n",
        "plt.plot(x_xfoil,cp_xfoil)\n",
        "ax.legend(['Cpu for Thin Airfoil theory','Cpl for Thin Airfoil theory','Xfoil Data combined for upper and lower surfaces']);\n",
        "ax.axis(ymin=-2,ymax=2);\n",
        "ax.grid()\n",
        "ax.set_title(airfoil3312.name);\n",
        "ax.invert_yaxis()"
      ],
      "metadata": {
        "colab": {
          "base_uri": "https://localhost:8080/",
          "height": 607
        },
        "id": "nY7kr7I0rChm",
        "outputId": "f4437b38-3bea-40f9-9767-a0fc2976914b"
      },
      "execution_count": null,
      "outputs": [
        {
          "output_type": "display_data",
          "data": {
            "text/plain": [
              "<Figure size 720x720 with 1 Axes>"
            ],
            "image/png": "[encoded data removed]"
          },
          "metadata": {
            "needs_background": "light"
          }
        }
      ]
    },
    {
      "cell_type": "markdown",
      "source": [
        "We can hence see that there is some correlation in the plot with x foil plot "
      ],
      "metadata": {
        "id": "70Flk-uasUMn"
      }
    }
  ],
  "metadata": {
    "colab": {
      "collapsed_sections": [
        "wWx89ydH-0m8",
        "lHFRxLFz-8B7"
      ],
      "provenance": []
    },
    "kernelspec": {
      "display_name": "Python 3",
      "name": "python3"
    },
    "language_info": {
      "name": "python"
    },
    "widgets": {
      "application/vnd.jupyter.widget-state+json": {
        "a37673f9e6bd465db85d6a6f0b6fbf8d": {
          "model_module": "@jupyter-widgets/controls",
          "model_name": "HBoxModel",
          "model_module_version": "1.5.0",
          "state": {
            "_dom_classes": [],
            "_model_module": "@jupyter-widgets/controls",
            "_model_module_version": "1.5.0",
            "_model_name": "HBoxModel",
            "_view_count": null,
            "_view_module": "@jupyter-widgets/controls",
            "_view_module_version": "1.5.0",
            "_view_name": "HBoxView",
            "box_style": "",
            "children": [
              "IPY_MODEL_1af8b4779df445efaa7535f6f86b850c",
              "IPY_MODEL_887e431f9f254f4ea5fffb996bced7ff",
              "IPY_MODEL_4470493a6cae42dba4431b45befc5027"
            ],
            "layout": "IPY_MODEL_0f1c703dcc484bd0a1fd814b3ab3c36d"
          }
        },
        "1af8b4779df445efaa7535f6f86b850c": {
          "model_module": "@jupyter-widgets/controls",
          "model_name": "HTMLModel",
          "model_module_version": "1.5.0",
          "state": {
            "_dom_classes": [],
            "_model_module": "@jupyter-widgets/controls",
            "_model_module_version": "1.5.0",
            "_model_name": "HTMLModel",
            "_view_count": null,
            "_view_module": "@jupyter-widgets/controls",
            "_view_module_version": "1.5.0",
            "_view_name": "HTMLView",
            "description": "",
            "description_tooltip": null,
            "layout": "IPY_MODEL_00c9ee332c2f492983821ba6c8d474c9",
            "placeholder": "​",
            "style": "IPY_MODEL_1e8e602ff5e24217864cda8f7b29289d",
            "value": "Computing plotting points: 100%"
          }
        },
        "887e431f9f254f4ea5fffb996bced7ff": {
          "model_module": "@jupyter-widgets/controls",
          "model_name": "FloatProgressModel",
          "model_module_version": "1.5.0",
          "state": {
            "_dom_classes": [],
            "_model_module": "@jupyter-widgets/controls",
            "_model_module_version": "1.5.0",
            "_model_name": "FloatProgressModel",
            "_view_count": null,
            "_view_module": "@jupyter-widgets/controls",
            "_view_module_version": "1.5.0",
            "_view_name": "ProgressView",
            "bar_style": "success",
            "description": "",
            "description_tooltip": null,
            "layout": "IPY_MODEL_74b67d714afd4c9aae9c5c3aefbbb97e",
            "max": 100,
            "min": 0,
            "orientation": "horizontal",
            "style": "IPY_MODEL_fb68cfc0c21c4c7cb5e0af5c0c75b2eb",
            "value": 100
          }
        },
        "4470493a6cae42dba4431b45befc5027": {
          "model_module": "@jupyter-widgets/controls",
          "model_name": "HTMLModel",
          "model_module_version": "1.5.0",
          "state": {
            "_dom_classes": [],
            "_model_module": "@jupyter-widgets/controls",
            "_model_module_version": "1.5.0",
            "_model_name": "HTMLModel",
            "_view_count": null,
            "_view_module": "@jupyter-widgets/controls",
            "_view_module_version": "1.5.0",
            "_view_name": "HTMLView",
            "description": "",
            "description_tooltip": null,
            "layout": "IPY_MODEL_3c3a995768fc4a7bad8381765b7f3bee",
            "placeholder": "​",
            "style": "IPY_MODEL_23c4e79fd29a42b78146234c3dba31fc",
            "value": " 100/100 [00:59&lt;00:00,  1.87it/s]"
          }
        },
        "0f1c703dcc484bd0a1fd814b3ab3c36d": {
          "model_module": "@jupyter-widgets/base",
          "model_name": "LayoutModel",
          "model_module_version": "1.2.0",
          "state": {
            "_model_module": "@jupyter-widgets/base",
            "_model_module_version": "1.2.0",
            "_model_name": "LayoutModel",
            "_view_count": null,
            "_view_module": "@jupyter-widgets/base",
            "_view_module_version": "1.2.0",
            "_view_name": "LayoutView",
            "align_content": null,
            "align_items": null,
            "align_self": null,
            "border": null,
            "bottom": null,
            "display": null,
            "flex": null,
            "flex_flow": null,
            "grid_area": null,
            "grid_auto_columns": null,
            "grid_auto_flow": null,
            "grid_auto_rows": null,
            "grid_column": null,
            "grid_gap": null,
            "grid_row": null,
            "grid_template_areas": null,
            "grid_template_columns": null,
            "grid_template_rows": null,
            "height": null,
            "justify_content": null,
            "justify_items": null,
            "left": null,
            "margin": null,
            "max_height": null,
            "max_width": null,
            "min_height": null,
            "min_width": null,
            "object_fit": null,
            "object_position": null,
            "order": null,
            "overflow": null,
            "overflow_x": null,
            "overflow_y": null,
            "padding": null,
            "right": null,
            "top": null,
            "visibility": null,
            "width": null
          }
        },
        "00c9ee332c2f492983821ba6c8d474c9": {
          "model_module": "@jupyter-widgets/base",
          "model_name": "LayoutModel",
          "model_module_version": "1.2.0",
          "state": {
            "_model_module": "@jupyter-widgets/base",
            "_model_module_version": "1.2.0",
            "_model_name": "LayoutModel",
            "_view_count": null,
            "_view_module": "@jupyter-widgets/base",
            "_view_module_version": "1.2.0",
            "_view_name": "LayoutView",
            "align_content": null,
            "align_items": null,
            "align_self": null,
            "border": null,
            "bottom": null,
            "display": null,
            "flex": null,
            "flex_flow": null,
            "grid_area": null,
            "grid_auto_columns": null,
            "grid_auto_flow": null,
            "grid_auto_rows": null,
            "grid_column": null,
            "grid_gap": null,
            "grid_row": null,
            "grid_template_areas": null,
            "grid_template_columns": null,
            "grid_template_rows": null,
            "height": null,
            "justify_content": null,
            "justify_items": null,
            "left": null,
            "margin": null,
            "max_height": null,
            "max_width": null,
            "min_height": null,
            "min_width": null,
            "object_fit": null,
            "object_position": null,
            "order": null,
            "overflow": null,
            "overflow_x": null,
            "overflow_y": null,
            "padding": null,
            "right": null,
            "top": null,
            "visibility": null,
            "width": null
          }
        },
        "1e8e602ff5e24217864cda8f7b29289d": {
          "model_module": "@jupyter-widgets/controls",
          "model_name": "DescriptionStyleModel",
          "model_module_version": "1.5.0",
          "state": {
            "_model_module": "@jupyter-widgets/controls",
            "_model_module_version": "1.5.0",
            "_model_name": "DescriptionStyleModel",
            "_view_count": null,
            "_view_module": "@jupyter-widgets/base",
            "_view_module_version": "1.2.0",
            "_view_name": "StyleView",
            "description_width": ""
          }
        },
        "74b67d714afd4c9aae9c5c3aefbbb97e": {
          "model_module": "@jupyter-widgets/base",
          "model_name": "LayoutModel",
          "model_module_version": "1.2.0",
          "state": {
            "_model_module": "@jupyter-widgets/base",
            "_model_module_version": "1.2.0",
            "_model_name": "LayoutModel",
            "_view_count": null,
            "_view_module": "@jupyter-widgets/base",
            "_view_module_version": "1.2.0",
            "_view_name": "LayoutView",
            "align_content": null,
            "align_items": null,
            "align_self": null,
            "border": null,
            "bottom": null,
            "display": null,
            "flex": null,
            "flex_flow": null,
            "grid_area": null,
            "grid_auto_columns": null,
            "grid_auto_flow": null,
            "grid_auto_rows": null,
            "grid_column": null,
            "grid_gap": null,
            "grid_row": null,
            "grid_template_areas": null,
            "grid_template_columns": null,
            "grid_template_rows": null,
            "height": null,
            "justify_content": null,
            "justify_items": null,
            "left": null,
            "margin": null,
            "max_height": null,
            "max_width": null,
            "min_height": null,
            "min_width": null,
            "object_fit": null,
            "object_position": null,
            "order": null,
            "overflow": null,
            "overflow_x": null,
            "overflow_y": null,
            "padding": null,
            "right": null,
            "top": null,
            "visibility": null,
            "width": null
          }
        },
        "fb68cfc0c21c4c7cb5e0af5c0c75b2eb": {
          "model_module": "@jupyter-widgets/controls",
          "model_name": "ProgressStyleModel",
          "model_module_version": "1.5.0",
          "state": {
            "_model_module": "@jupyter-widgets/controls",
            "_model_module_version": "1.5.0",
            "_model_name": "ProgressStyleModel",
            "_view_count": null,
            "_view_module": "@jupyter-widgets/base",
            "_view_module_version": "1.2.0",
            "_view_name": "StyleView",
            "bar_color": null,
            "description_width": ""
          }
        },
        "3c3a995768fc4a7bad8381765b7f3bee": {
          "model_module": "@jupyter-widgets/base",
          "model_name": "LayoutModel",
          "model_module_version": "1.2.0",
          "state": {
            "_model_module": "@jupyter-widgets/base",
            "_model_module_version": "1.2.0",
            "_model_name": "LayoutModel",
            "_view_count": null,
            "_view_module": "@jupyter-widgets/base",
            "_view_module_version": "1.2.0",
            "_view_name": "LayoutView",
            "align_content": null,
            "align_items": null,
            "align_self": null,
            "border": null,
            "bottom": null,
            "display": null,
            "flex": null,
            "flex_flow": null,
            "grid_area": null,
            "grid_auto_columns": null,
            "grid_auto_flow": null,
            "grid_auto_rows": null,
            "grid_column": null,
            "grid_gap": null,
            "grid_row": null,
            "grid_template_areas": null,
            "grid_template_columns": null,
            "grid_template_rows": null,
            "height": null,
            "justify_content": null,
            "justify_items": null,
            "left": null,
            "margin": null,
            "max_height": null,
            "max_width": null,
            "min_height": null,
            "min_width": null,
            "object_fit": null,
            "object_position": null,
            "order": null,
            "overflow": null,
            "overflow_x": null,
            "overflow_y": null,
            "padding": null,
            "right": null,
            "top": null,
            "visibility": null,
            "width": null
          }
        },
        "23c4e79fd29a42b78146234c3dba31fc": {
          "model_module": "@jupyter-widgets/controls",
          "model_name": "DescriptionStyleModel",
          "model_module_version": "1.5.0",
          "state": {
            "_model_module": "@jupyter-widgets/controls",
            "_model_module_version": "1.5.0",
            "_model_name": "DescriptionStyleModel",
            "_view_count": null,
            "_view_module": "@jupyter-widgets/base",
            "_view_module_version": "1.2.0",
            "_view_name": "StyleView",
            "description_width": ""
          }
        },
        "f768f0d1831f45789f38bf3f8ae5d58b": {
          "model_module": "@jupyter-widgets/controls",
          "model_name": "HBoxModel",
          "model_module_version": "1.5.0",
          "state": {
            "_dom_classes": [],
            "_model_module": "@jupyter-widgets/controls",
            "_model_module_version": "1.5.0",
            "_model_name": "HBoxModel",
            "_view_count": null,
            "_view_module": "@jupyter-widgets/controls",
            "_view_module_version": "1.5.0",
            "_view_name": "HBoxView",
            "box_style": "",
            "children": [
              "IPY_MODEL_eafe7efc8d91495886f952ad958df5c2",
              "IPY_MODEL_6a4f640d271a4d1cb043b0646c2485ea",
              "IPY_MODEL_c0ff2b7b630d45b888bcab077d45ac07"
            ],
            "layout": "IPY_MODEL_58141b4cf892407499d8c5ee7f2af48d"
          }
        },
        "eafe7efc8d91495886f952ad958df5c2": {
          "model_module": "@jupyter-widgets/controls",
          "model_name": "HTMLModel",
          "model_module_version": "1.5.0",
          "state": {
            "_dom_classes": [],
            "_model_module": "@jupyter-widgets/controls",
            "_model_module_version": "1.5.0",
            "_model_name": "HTMLModel",
            "_view_count": null,
            "_view_module": "@jupyter-widgets/controls",
            "_view_module_version": "1.5.0",
            "_view_name": "HTMLView",
            "description": "",
            "description_tooltip": null,
            "layout": "IPY_MODEL_41e6c7ba33a6466d98d7e6c295c42afc",
            "placeholder": "​",
            "style": "IPY_MODEL_732103f690cd4422818c4835c128fa99",
            "value": "Computing plotting points: 100%"
          }
        },
        "6a4f640d271a4d1cb043b0646c2485ea": {
          "model_module": "@jupyter-widgets/controls",
          "model_name": "FloatProgressModel",
          "model_module_version": "1.5.0",
          "state": {
            "_dom_classes": [],
            "_model_module": "@jupyter-widgets/controls",
            "_model_module_version": "1.5.0",
            "_model_name": "FloatProgressModel",
            "_view_count": null,
            "_view_module": "@jupyter-widgets/controls",
            "_view_module_version": "1.5.0",
            "_view_name": "ProgressView",
            "bar_style": "success",
            "description": "",
            "description_tooltip": null,
            "layout": "IPY_MODEL_20961447dcdc43a79f5b260e64fbde1c",
            "max": 100,
            "min": 0,
            "orientation": "horizontal",
            "style": "IPY_MODEL_e5c43104a17c47d0af6775371ef42811",
            "value": 100
          }
        },
        "c0ff2b7b630d45b888bcab077d45ac07": {
          "model_module": "@jupyter-widgets/controls",
          "model_name": "HTMLModel",
          "model_module_version": "1.5.0",
          "state": {
            "_dom_classes": [],
            "_model_module": "@jupyter-widgets/controls",
            "_model_module_version": "1.5.0",
            "_model_name": "HTMLModel",
            "_view_count": null,
            "_view_module": "@jupyter-widgets/controls",
            "_view_module_version": "1.5.0",
            "_view_name": "HTMLView",
            "description": "",
            "description_tooltip": null,
            "layout": "IPY_MODEL_6472c583b45c4cfeb2a83a9546b71833",
            "placeholder": "​",
            "style": "IPY_MODEL_e88d296bf1d2417b99b5cd14c3a87d03",
            "value": " 100/100 [00:53&lt;00:00,  1.88it/s]"
          }
        },
        "58141b4cf892407499d8c5ee7f2af48d": {
          "model_module": "@jupyter-widgets/base",
          "model_name": "LayoutModel",
          "model_module_version": "1.2.0",
          "state": {
            "_model_module": "@jupyter-widgets/base",
            "_model_module_version": "1.2.0",
            "_model_name": "LayoutModel",
            "_view_count": null,
            "_view_module": "@jupyter-widgets/base",
            "_view_module_version": "1.2.0",
            "_view_name": "LayoutView",
            "align_content": null,
            "align_items": null,
            "align_self": null,
            "border": null,
            "bottom": null,
            "display": null,
            "flex": null,
            "flex_flow": null,
            "grid_area": null,
            "grid_auto_columns": null,
            "grid_auto_flow": null,
            "grid_auto_rows": null,
            "grid_column": null,
            "grid_gap": null,
            "grid_row": null,
            "grid_template_areas": null,
            "grid_template_columns": null,
            "grid_template_rows": null,
            "height": null,
            "justify_content": null,
            "justify_items": null,
            "left": null,
            "margin": null,
            "max_height": null,
            "max_width": null,
            "min_height": null,
            "min_width": null,
            "object_fit": null,
            "object_position": null,
            "order": null,
            "overflow": null,
            "overflow_x": null,
            "overflow_y": null,
            "padding": null,
            "right": null,
            "top": null,
            "visibility": null,
            "width": null
          }
        },
        "41e6c7ba33a6466d98d7e6c295c42afc": {
          "model_module": "@jupyter-widgets/base",
          "model_name": "LayoutModel",
          "model_module_version": "1.2.0",
          "state": {
            "_model_module": "@jupyter-widgets/base",
            "_model_module_version": "1.2.0",
            "_model_name": "LayoutModel",
            "_view_count": null,
            "_view_module": "@jupyter-widgets/base",
            "_view_module_version": "1.2.0",
            "_view_name": "LayoutView",
            "align_content": null,
            "align_items": null,
            "align_self": null,
            "border": null,
            "bottom": null,
            "display": null,
            "flex": null,
            "flex_flow": null,
            "grid_area": null,
            "grid_auto_columns": null,
            "grid_auto_flow": null,
            "grid_auto_rows": null,
            "grid_column": null,
            "grid_gap": null,
            "grid_row": null,
            "grid_template_areas": null,
            "grid_template_columns": null,
            "grid_template_rows": null,
            "height": null,
            "justify_content": null,
            "justify_items": null,
            "left": null,
            "margin": null,
            "max_height": null,
            "max_width": null,
            "min_height": null,
            "min_width": null,
            "object_fit": null,
            "object_position": null,
            "order": null,
            "overflow": null,
            "overflow_x": null,
            "overflow_y": null,
            "padding": null,
            "right": null,
            "top": null,
            "visibility": null,
            "width": null
          }
        },
        "732103f690cd4422818c4835c128fa99": {
          "model_module": "@jupyter-widgets/controls",
          "model_name": "DescriptionStyleModel",
          "model_module_version": "1.5.0",
          "state": {
            "_model_module": "@jupyter-widgets/controls",
            "_model_module_version": "1.5.0",
            "_model_name": "DescriptionStyleModel",
            "_view_count": null,
            "_view_module": "@jupyter-widgets/base",
            "_view_module_version": "1.2.0",
            "_view_name": "StyleView",
            "description_width": ""
          }
        },
        "20961447dcdc43a79f5b260e64fbde1c": {
          "model_module": "@jupyter-widgets/base",
          "model_name": "LayoutModel",
          "model_module_version": "1.2.0",
          "state": {
            "_model_module": "@jupyter-widgets/base",
            "_model_module_version": "1.2.0",
            "_model_name": "LayoutModel",
            "_view_count": null,
            "_view_module": "@jupyter-widgets/base",
            "_view_module_version": "1.2.0",
            "_view_name": "LayoutView",
            "align_content": null,
            "align_items": null,
            "align_self": null,
            "border": null,
            "bottom": null,
            "display": null,
            "flex": null,
            "flex_flow": null,
            "grid_area": null,
            "grid_auto_columns": null,
            "grid_auto_flow": null,
            "grid_auto_rows": null,
            "grid_column": null,
            "grid_gap": null,
            "grid_row": null,
            "grid_template_areas": null,
            "grid_template_columns": null,
            "grid_template_rows": null,
            "height": null,
            "justify_content": null,
            "justify_items": null,
            "left": null,
            "margin": null,
            "max_height": null,
            "max_width": null,
            "min_height": null,
            "min_width": null,
            "object_fit": null,
            "object_position": null,
            "order": null,
            "overflow": null,
            "overflow_x": null,
            "overflow_y": null,
            "padding": null,
            "right": null,
            "top": null,
            "visibility": null,
            "width": null
          }
        },
        "e5c43104a17c47d0af6775371ef42811": {
          "model_module": "@jupyter-widgets/controls",
          "model_name": "ProgressStyleModel",
          "model_module_version": "1.5.0",
          "state": {
            "_model_module": "@jupyter-widgets/controls",
            "_model_module_version": "1.5.0",
            "_model_name": "ProgressStyleModel",
            "_view_count": null,
            "_view_module": "@jupyter-widgets/base",
            "_view_module_version": "1.2.0",
            "_view_name": "StyleView",
            "bar_color": null,
            "description_width": ""
          }
        },
        "6472c583b45c4cfeb2a83a9546b71833": {
          "model_module": "@jupyter-widgets/base",
          "model_name": "LayoutModel",
          "model_module_version": "1.2.0",
          "state": {
            "_model_module": "@jupyter-widgets/base",
            "_model_module_version": "1.2.0",
            "_model_name": "LayoutModel",
            "_view_count": null,
            "_view_module": "@jupyter-widgets/base",
            "_view_module_version": "1.2.0",
            "_view_name": "LayoutView",
            "align_content": null,
            "align_items": null,
            "align_self": null,
            "border": null,
            "bottom": null,
            "display": null,
            "flex": null,
            "flex_flow": null,
            "grid_area": null,
            "grid_auto_columns": null,
            "grid_auto_flow": null,
            "grid_auto_rows": null,
            "grid_column": null,
            "grid_gap": null,
            "grid_row": null,
            "grid_template_areas": null,
            "grid_template_columns": null,
            "grid_template_rows": null,
            "height": null,
            "justify_content": null,
            "justify_items": null,
            "left": null,
            "margin": null,
            "max_height": null,
            "max_width": null,
            "min_height": null,
            "min_width": null,
            "object_fit": null,
            "object_position": null,
            "order": null,
            "overflow": null,
            "overflow_x": null,
            "overflow_y": null,
            "padding": null,
            "right": null,
            "top": null,
            "visibility": null,
            "width": null
          }
        },
        "e88d296bf1d2417b99b5cd14c3a87d03": {
          "model_module": "@jupyter-widgets/controls",
          "model_name": "DescriptionStyleModel",
          "model_module_version": "1.5.0",
          "state": {
            "_model_module": "@jupyter-widgets/controls",
            "_model_module_version": "1.5.0",
            "_model_name": "DescriptionStyleModel",
            "_view_count": null,
            "_view_module": "@jupyter-widgets/base",
            "_view_module_version": "1.2.0",
            "_view_name": "StyleView",
            "description_width": ""
          }
        }
      }
    }
  },
  "nbformat": 4,
  "nbformat_minor": 0
}